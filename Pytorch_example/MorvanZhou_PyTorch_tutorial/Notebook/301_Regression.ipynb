{
 "cells": [
  {
   "cell_type": "code",
   "execution_count": 1,
   "metadata": {},
   "outputs": [
    {
     "data": {
      "image/png": "[encoded data removed]",
      "text/plain": [
       "<Figure size 432x288 with 1 Axes>"
      ]
     },
     "metadata": {
      "needs_background": "light"
     },
     "output_type": "display_data"
    }
   ],
   "source": [
    "# https://morvanzhou.github.io/tutorials/machine-learning/torch/3-01-regression/\n",
    "\n",
    "import torch\n",
    "import matplotlib.pyplot as plt # 視覺化套件\n",
    "\n",
    "# 產生一個隨機數據 (torch)\n",
    "x = torch.unsqueeze(torch.linspace(-1, 1, 100), dim=1)  # x 軸 (-1 至 1) 100 個點\n",
    "y = x.pow(2) + 0.2 * torch.rand(x.size())               # y = x ^ 2 + (隨機亂數的偏移)\n",
    "\n",
    "# 使用 plt 畫出圖形 (numpy)\n",
    "plt.scatter(x.data.numpy(), y.data.numpy())\n",
    "plt.show()"
   ]
  },
  {
   "cell_type": "code",
   "execution_count": 2,
   "metadata": {},
   "outputs": [
    {
     "name": "stdout",
     "output_type": "stream",
     "text": [
      "Net(\n",
      "  (hidden): Linear(in_features=1, out_features=10, bias=True)\n",
      "  (predict): Linear(in_features=10, out_features=1, bias=True)\n",
      ")\n"
     ]
    }
   ],
   "source": [
    "import torch\n",
    "import torch.nn.functional as F\n",
    "\n",
    "class Net(torch.nn.Module):  # 繼承 torch 的 Module\n",
    "    def __init__(self, n_feature, n_hidden, n_output):\n",
    "        super(Net, self).__init__()     # 繼承 __init__ 功能\n",
    "        # 定義各層樣式\n",
    "        self.hidden = torch.nn.Linear(n_feature, n_hidden)   # nn.Linear(輸入二維張量大小, 輸出二維張量大小)\n",
    "        self.predict = torch.nn.Linear(n_hidden, n_output)   # 上一級的輸出為這級的輸入\n",
    "\n",
    "    def forward(self, x):\n",
    "        # 正向傳播輸入值, 神经網路分析出输出值\n",
    "        x = F.relu(self.hidden(x))      # 激勵函數\n",
    "        x = self.predict(x)\n",
    "        return x\n",
    "\n",
    "net = Net(n_feature=1, n_hidden=10, n_output=1)           # 輸入特徵 : 1, 神經元個數 : 10, 輸出特徵 : 1\n",
    "\n",
    "print(net)  # net 結構"
   ]
  },
  {
   "cell_type": "code",
   "execution_count": null,
   "metadata": {},
   "outputs": [],
   "source": [
    "import matplotlib.pyplot as plt\n",
    "\n",
    "optimizer = torch.optim.SGD(net.parameters(), lr=0.2)   # 使用SGD作為本模型的優化器, 學習率\n",
    "                                                        # Gradient Descent Momentum \n",
    "                                                        # https://www.itread01.com/content/1543288024.html\n",
    "loss_func = torch.nn.MSELoss()      # 預測值和真實值的誤差計算公式 (均方差)\n",
    "\n",
    "plt.ion()   # 畫出圖\n",
    "plt.show()\n",
    "\n",
    "for t in range(200):        # 200 次\n",
    "    prediction = net(x)     # 輸入數據給 net, 输出预测值\n",
    "\n",
    "    loss = loss_func(prediction, y)     # 計算兩者的誤差\n",
    "    \n",
    "    optimizer.zero_grad()   # 清空數據，梯度更新\n",
    "    loss.backward()\n",
    "    optimizer.step()\n",
    "\n",
    "    # 畫出訓練的狀況\n",
    "    if t % 5 == 0:\n",
    "        \n",
    "        plt.cla()\n",
    "        plt.scatter(x.data.numpy(), y.data.numpy())\n",
    "        plt.plot(x.data.numpy(), prediction.data.numpy(), 'r-', lw=5) #圖\n",
    "        plt.text(0.5, 0, 'Loss=%.4f' % loss.data.numpy(), fontdict={'size': 20, 'color':  'red'}) # Loss 值\n",
    "        plt.pause(0.1)"
   ]
  }
 ],
 "metadata": {
  "kernelspec": {
   "display_name": "Python 3",
   "language": "python",
   "name": "python3"
  },
  "language_info": {
   "codemirror_mode": {
    "name": "ipython",
    "version": 3
   },
   "file_extension": ".py",
   "mimetype": "text/x-python",
   "name": "python",
   "nbconvert_exporter": "python",
   "pygments_lexer": "ipython3",
   "version": "3.7.4"
  }
 },
 "nbformat": 4,
 "nbformat_minor": 4
}
